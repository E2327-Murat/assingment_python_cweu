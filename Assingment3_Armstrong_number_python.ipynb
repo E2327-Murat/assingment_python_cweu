{
 "cells": [
  {
   "cell_type": "code",
   "execution_count": 10,
   "metadata": {},
   "outputs": [
    {
     "name": "stdout",
     "output_type": "stream",
     "text": [
      "Please enter a positive number : 456\n",
      "456 is not an Armstrong number\n"
     ]
    }
   ],
   "source": [
    "num = input(\"Please enter a positive number : \" )\n",
    "\n",
    "if num.isdigit() != True:\n",
    "        print(\" It is an invalid entry. Don't use non-numeric, float, or negative values!\")\n",
    "else:\n",
    "    num_list = list(num)\n",
    "    i = 0\n",
    "    x = 0\n",
    "\n",
    "    while i < (len(num_list)):\n",
    "        x += int(num_list[i]) ** len(num_list)\n",
    "        i += 1\n",
    "    if int(num) == x:\n",
    "        print(f\"{num} is an Armstrong number\")\n",
    "    else:\n",
    "        print(f\"{num} is not an Armstrong number\")\n",
    "\n",
    "\n"
   ]
  }
 ],
 "metadata": {
  "kernelspec": {
   "display_name": "Python 3",
   "language": "python",
   "name": "python3"
  },
  "language_info": {
   "codemirror_mode": {
    "name": "ipython",
    "version": 3
   },
   "file_extension": ".py",
   "mimetype": "text/x-python",
   "name": "python",
   "nbconvert_exporter": "python",
   "pygments_lexer": "ipython3",
   "version": "3.7.6"
  }
 },
 "nbformat": 4,
 "nbformat_minor": 4
}
