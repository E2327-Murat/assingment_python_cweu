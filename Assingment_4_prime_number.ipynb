{
 "cells": [
  {
   "cell_type": "code",
   "execution_count": null,
   "metadata": {},
   "outputs": [],
   "source": [
    "num = int(input(\"Please enter a positive number:\"))\n",
    "\n",
    "count = 0 \n",
    "\n",
    "for i in range(1,num+1):\n",
    "    if num % i == 0:\n",
    "        count += 1\n",
    "\n",
    "if num == 0 or num == 1 or count >= 3:\n",
    "    print(num, \"is a not a prime number\")\n",
    "else:\n",
    "    print(num, \"is a prime number\")"
   ]
  }
 ],
 "metadata": {
  "kernelspec": {
   "display_name": "Python 3",
   "language": "python",
   "name": "python3"
  },
  "language_info": {
   "codemirror_mode": {
    "name": "ipython",
    "version": 3
   },
   "file_extension": ".py",
   "mimetype": "text/x-python",
   "name": "python",
   "nbconvert_exporter": "python",
   "pygments_lexer": "ipython3",
   "version": "3.7.6"
  }
 },
 "nbformat": 4,
 "nbformat_minor": 4
}
