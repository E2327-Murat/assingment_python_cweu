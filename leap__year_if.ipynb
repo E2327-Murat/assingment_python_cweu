{
 "cells": [
  {
   "cell_type": "code",
   "execution_count": null,
   "metadata": {},
   "outputs": [],
   "source": [
    "leap = int(input(\"Please enter a year: \"))\n",
    "\n",
    "if leap % 400 == 0:\n",
    "    print(f\"{leap} is a leap year\")\n",
    "\n",
    "elif leap % 4 == 0 and leap % 100 != 0:\n",
    "    print(f\"{leap} is a leap year\")\n",
    "\n",
    "else:\n",
    "    print(f\"{leap} is not a leap year\")"
   ]
  }
 ],
 "metadata": {
  "kernelspec": {
   "display_name": "Python 3",
   "language": "python",
   "name": "python3"
  },
  "language_info": {
   "codemirror_mode": {
    "name": "ipython",
    "version": 3
   },
   "file_extension": ".py",
   "mimetype": "text/x-python",
   "name": "python",
   "nbconvert_exporter": "python",
   "pygments_lexer": "ipython3",
   "version": "3.7.6"
  }
 },
 "nbformat": 4,
 "nbformat_minor": 4
}
