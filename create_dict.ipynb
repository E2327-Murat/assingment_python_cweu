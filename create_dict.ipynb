{
 "cells": [
  {
   "cell_type": "code",
   "execution_count": 1,
   "metadata": {},
   "outputs": [
    {
     "name": "stdout",
     "output_type": "stream",
     "text": [
      "{'b': 8, 'i': 4, 'r': 8, ' ': 7, 'e': 9, ',': 1, 'g': 1, 'l': 2, 'a': 3, '1': 1, \"'\": 1, 'n': 1, 'd': 1, 'ş': 1, 'y': 1, 'p': 1, 'ı': 1, 'm': 1}\n"
     ]
    }
   ],
   "source": [
    "sentence = \"bir berber, bireberber gel beraber 1'inde iş yapalım\"\n",
    "\n",
    "group = {}\n",
    "\n",
    "for i in sentence:\n",
    "    keys = group.keys()\n",
    "    if i in keys:\n",
    "        group[i] += 1\n",
    "    else:\n",
    "        group[i] = 1\n",
    "        \n",
    "print(group)"
   ]
  }
 ],
 "metadata": {
  "kernelspec": {
   "display_name": "Python 3",
   "language": "python",
   "name": "python3"
  },
  "language_info": {
   "codemirror_mode": {
    "name": "ipython",
    "version": 3
   },
   "file_extension": ".py",
   "mimetype": "text/x-python",
   "name": "python",
   "nbconvert_exporter": "python",
   "pygments_lexer": "ipython3",
   "version": "3.7.6"
  }
 },
 "nbformat": 4,
 "nbformat_minor": 4
}
