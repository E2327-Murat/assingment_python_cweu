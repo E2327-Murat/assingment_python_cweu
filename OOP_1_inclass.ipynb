{
 "cells": [
  {
   "cell_type": "code",
   "execution_count": 46,
   "metadata": {},
   "outputs": [],
   "source": [
    "class Employee:\n",
    "    \n",
    "    raise_amnt = 1.04\n",
    "    \n",
    "    def __init__(self,firstName,lastName,email,pay):\n",
    "        \n",
    "        self.firstName = firstName\n",
    "        self.lastName = lastName\n",
    "        self.email = email\n",
    "        self.pay = pay\n",
    "    \n",
    "    def fullname(self):\n",
    "        return \"{} {}\".format(self.firstName, self.lastName)\n",
    "    def apply_raise(self):\n",
    "        self.pay = int(self.pay * self.raise_amnt)\n",
    "        return self.pay\n",
    "    @classmethod\n",
    "    def set_raise_amt(cls,amount):\n",
    "        cls.raise_amnt = amount\n",
    "        \n",
    "    @classmethod\n",
    "    def from_string(cls,emp_str):\n",
    "        firstName, lastName, email, pay = emp_str.split('-')\n",
    "        return cls(firstName, lastName,email,pay)\n",
    "        "
   ]
  },
  {
   "cell_type": "code",
   "execution_count": 47,
   "metadata": {},
   "outputs": [],
   "source": [
    "emp_1 = Employee(\"Murat\",\"Host\",\"murat.host@clarusway.com\",4000)\n",
    "emp_2 = Employee(\"Murat2\",\"Host2\",\"Murat2@clarusway.com\",5000)"
   ]
  },
  {
   "cell_type": "code",
   "execution_count": 48,
   "metadata": {},
   "outputs": [
    {
     "name": "stdout",
     "output_type": "stream",
     "text": [
      "Murat\n"
     ]
    }
   ],
   "source": [
    "print(emp_1.firstName)"
   ]
  },
  {
   "cell_type": "code",
   "execution_count": 49,
   "metadata": {},
   "outputs": [
    {
     "name": "stdout",
     "output_type": "stream",
     "text": [
      "Murat Host\n"
     ]
    }
   ],
   "source": [
    "print(emp_1.fullname())"
   ]
  },
  {
   "cell_type": "code",
   "execution_count": 50,
   "metadata": {},
   "outputs": [
    {
     "name": "stdout",
     "output_type": "stream",
     "text": [
      "1.04\n"
     ]
    }
   ],
   "source": [
    "print(emp_1.raise_amnt)"
   ]
  },
  {
   "cell_type": "code",
   "execution_count": 51,
   "metadata": {},
   "outputs": [],
   "source": [
    "Employee.raise_amnt = 1.06"
   ]
  },
  {
   "cell_type": "code",
   "execution_count": 52,
   "metadata": {},
   "outputs": [],
   "source": [
    "emp_1.raise_amnt = 1.07 "
   ]
  },
  {
   "cell_type": "code",
   "execution_count": 53,
   "metadata": {},
   "outputs": [
    {
     "name": "stdout",
     "output_type": "stream",
     "text": [
      "1.07\n",
      "1.06\n"
     ]
    }
   ],
   "source": [
    "print(emp_1.raise_amnt)\n",
    "print(Employee.raise_amnt)"
   ]
  },
  {
   "cell_type": "code",
   "execution_count": 54,
   "metadata": {},
   "outputs": [
    {
     "name": "stdout",
     "output_type": "stream",
     "text": [
      "1.06\n",
      "1.06\n"
     ]
    }
   ],
   "source": [
    "print(emp_2.raise_amnt)\n",
    "print(Employee.raise_amnt)"
   ]
  },
  {
   "cell_type": "code",
   "execution_count": 55,
   "metadata": {},
   "outputs": [],
   "source": [
    "Employee.set_raise_amt(1.10)"
   ]
  },
  {
   "cell_type": "code",
   "execution_count": 56,
   "metadata": {
    "scrolled": false
   },
   "outputs": [
    {
     "name": "stdout",
     "output_type": "stream",
     "text": [
      "1.1\n",
      "1.07\n",
      "1.1\n"
     ]
    }
   ],
   "source": [
    "print(Employee.raise_amnt)\n",
    "print(emp_1.raise_amnt)\n",
    "print(emp_2.raise_amnt)"
   ]
  },
  {
   "cell_type": "code",
   "execution_count": 57,
   "metadata": {},
   "outputs": [
    {
     "name": "stdout",
     "output_type": "stream",
     "text": [
      "{'firstName': 'Murat', 'lastName': 'Host', 'email': 'murat.host@clarusway.com', 'pay': 4000, 'raise_amnt': 1.07}\n"
     ]
    }
   ],
   "source": [
    "print(emp_1.__dict__)"
   ]
  },
  {
   "cell_type": "code",
   "execution_count": 58,
   "metadata": {},
   "outputs": [
    {
     "name": "stdout",
     "output_type": "stream",
     "text": [
      "4000\n",
      "4280\n",
      "4280\n",
      "5000\n",
      "5500\n"
     ]
    }
   ],
   "source": [
    "print(emp_1.pay)\n",
    "print(emp_1.apply_raise())\n",
    "print(emp_1.pay)\n",
    "print(emp_2.pay)\n",
    "print(emp_2.apply_raise())"
   ]
  },
  {
   "cell_type": "code",
   "execution_count": 59,
   "metadata": {},
   "outputs": [],
   "source": [
    "class Employee:\n",
    "    \n",
    "    raise_amnt = 1.04\n",
    "    \n",
    "    def __init__(self,firstName,lastName,email,pay):\n",
    "        \n",
    "        self.firstName = firstName\n",
    "        self.lastName = lastName\n",
    "        self.email = email\n",
    "        self.pay = pay\n",
    "    \n",
    "    def fullname(self):\n",
    "        return \"{} {}\".format(self.firstName, self.lastName)\n",
    "    def apply_raise(self):\n",
    "        self.pay = int(self.pay * self.raise_amnt)\n",
    "        return self.pay\n",
    "    @classmethod\n",
    "    def set_raise_amt(cls,amount):\n",
    "        cls.raise_amnt = amount\n",
    "        \n",
    "    @classmethod\n",
    "    def from_string(cls,emp_str):\n",
    "        firstName, lastName, email, pay = emp_str.split('-')\n",
    "        return cls(firstName, lastName,email,pay)\n",
    "    @staticmethod\n",
    "    def is_workday(date):\n",
    "        if date.weekday() == 5 or date.weekday() == 6:\n",
    "            return False\n",
    "        return True"
   ]
  },
  {
   "cell_type": "code",
   "execution_count": 60,
   "metadata": {},
   "outputs": [],
   "source": [
    "emp_str_1 =\"Murat-Host-Murathost@clarusway.com-5000\""
   ]
  },
  {
   "cell_type": "code",
   "execution_count": 61,
   "metadata": {},
   "outputs": [],
   "source": [
    "new_emp_1 = Employee.from_string(emp_str_1)"
   ]
  },
  {
   "cell_type": "code",
   "execution_count": 62,
   "metadata": {},
   "outputs": [
    {
     "name": "stdout",
     "output_type": "stream",
     "text": [
      "Murathost@clarusway.com\n"
     ]
    }
   ],
   "source": [
    "print(new_emp_1.email)"
   ]
  },
  {
   "cell_type": "code",
   "execution_count": 63,
   "metadata": {},
   "outputs": [],
   "source": [
    "new_emp_1_1 = Employee(new_emp_1.firstName,new_emp_1.lastName,new_emp_1.email,new_emp_1.pay)"
   ]
  },
  {
   "cell_type": "code",
   "execution_count": 64,
   "metadata": {},
   "outputs": [
    {
     "name": "stdout",
     "output_type": "stream",
     "text": [
      "Murathost@clarusway.com\n"
     ]
    }
   ],
   "source": [
    "print(new_emp_1_1.email)"
   ]
  },
  {
   "cell_type": "code",
   "execution_count": 65,
   "metadata": {},
   "outputs": [],
   "source": [
    "import datetime\n",
    "my_date = datetime.date(2020,8,6)"
   ]
  },
  {
   "cell_type": "code",
   "execution_count": 66,
   "metadata": {},
   "outputs": [
    {
     "name": "stdout",
     "output_type": "stream",
     "text": [
      "True\n"
     ]
    }
   ],
   "source": [
    "print(Employee.is_workday(my_date))"
   ]
  },
  {
   "cell_type": "code",
   "execution_count": null,
   "metadata": {},
   "outputs": [],
   "source": []
  }
 ],
 "metadata": {
  "kernelspec": {
   "display_name": "Python 3",
   "language": "python",
   "name": "python3"
  },
  "language_info": {
   "codemirror_mode": {
    "name": "ipython",
    "version": 3
   },
   "file_extension": ".py",
   "mimetype": "text/x-python",
   "name": "python",
   "nbconvert_exporter": "python",
   "pygments_lexer": "ipython3",
   "version": "3.7.6"
  }
 },
 "nbformat": 4,
 "nbformat_minor": 4
}
